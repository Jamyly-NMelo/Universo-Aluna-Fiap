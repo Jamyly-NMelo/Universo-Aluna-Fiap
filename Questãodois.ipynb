{
  "nbformat": 4,
  "nbformat_minor": 0,
  "metadata": {
    "colab": {
      "provenance": [],
      "authorship_tag": "ABX9TyOOHLi1p7AjrMkdIOHpRuaN",
      "include_colab_link": true
    },
    "kernelspec": {
      "name": "python3",
      "display_name": "Python 3"
    },
    "language_info": {
      "name": "python"
    }
  },
  "cells": [
    {
      "cell_type": "markdown",
      "metadata": {
        "id": "view-in-github",
        "colab_type": "text"
      },
      "source": [
        "<a href=\"https://colab.research.google.com/github/Jamyly-NMelo/Universo-Aluna-Fiap/blob/main/Quest%C3%A3odois.ipynb\" target=\"_parent\"><img src=\"https://colab.research.google.com/assets/colab-badge.svg\" alt=\"Open In Colab\"/></a>"
      ]
    },
    {
      "cell_type": "code",
      "source": [
        "import numpy as np\n",
        "import sympy as smp\n",
        "import pandas as pd\n",
        "import matplotlib.pyplot as plt\n",
        "import statsmodels.formula.api as sm"
      ],
      "metadata": {
        "id": "aaAfO6SAWx43"
      },
      "execution_count": 1,
      "outputs": []
    },
    {
      "cell_type": "code",
      "source": [
        "vendas_2019 = pd.read_csv('/content/vendas_linha_petshop_2019.csv',\n",
        "    sep = ';',\n",
        "    encoding ='latin1',\n",
        "    decimal =',')"
      ],
      "metadata": {
        "id": "jm8j0G4kW7F7"
      },
      "execution_count": 2,
      "outputs": []
    },
    {
      "cell_type": "code",
      "source": [
        "vendas_2020 = pd.read_csv('/content/vendas_linha_petshop_2020.csv',\n",
        "                              sep = ';',\n",
        "                              encoding='latin1',\n",
        "                              decimal=',')"
      ],
      "metadata": {
        "id": "55zWo3EPbfBs"
      },
      "execution_count": 3,
      "outputs": []
    },
    {
      "cell_type": "code",
      "source": [
        "vendas_2021 = pd.read_csv('/content/vendas_linha_petshop_2021.csv',\n",
        "                              sep = ';',\n",
        "                              encoding='latin1',\n",
        "                              decimal=',')"
      ],
      "metadata": {
        "id": "KtXS7S_gXAwp"
      },
      "execution_count": 4,
      "outputs": []
    },
    {
      "cell_type": "code",
      "source": [
        "vendas_2022 = pd.read_csv('/content/vendas_linha_petshop_2022.csv',\n",
        "                              sep = ';',\n",
        "                              encoding='latin1',\n",
        "                              decimal=',')"
      ],
      "metadata": {
        "id": "nI-FyEXbcs4F"
      },
      "execution_count": 5,
      "outputs": []
    },
    {
      "cell_type": "code",
      "source": [
        "#Concatenar as 4 tabelas\n",
        "vendas = pd.concat([vendas_2019, vendas_2020, vendas_2021, vendas_2022], ignore_index=True)\n",
        "vendas"
      ],
      "metadata": {
        "colab": {
          "base_uri": "https://localhost:8080/",
          "height": 1000
        },
        "id": "eF9hP9xyfI2f",
        "outputId": "6970d776-3764-4642-f5be-9b70996da8d2"
      },
      "execution_count": 6,
      "outputs": [
        {
          "output_type": "execute_result",
          "data": {
            "text/plain": [
              "        cod_pedido regiao_pais                               produto  valor  \\\n",
              "0                1       Norte          Biscoito  True Champion 300g  22.00   \n",
              "1                2       Norte          Biscoito  True Champion 300g  21.00   \n",
              "2                3       Norte          Biscoito  True Champion 300g  22.00   \n",
              "3                4       Norte          Biscoito  True Champion 300g  19.00   \n",
              "4                5       Norte          Biscoito  True Champion 300g  22.00   \n",
              "...            ...         ...                                   ...    ...   \n",
              "200781      200976     Sudeste  Bandana Disney Mickey Fábrica Petti   19.44   \n",
              "200782      200977     Sudeste  Bandana Disney Mickey Fábrica Petti   21.06   \n",
              "200783      200978         Sul  Bandana Disney Mickey Fábrica Petti   14.58   \n",
              "200784      200979         Sul  Bandana Disney Mickey Fábrica Petti   16.20   \n",
              "200785      200980         Sul  Bandana Disney Mickey Fábrica Petti   14.58   \n",
              "\n",
              "       quantidade  valor_total_bruto        data             estado  \\\n",
              "0             2.0              44.00  13/06/2019               Acre   \n",
              "1             2.0              42.00  03/01/2019              Amapá   \n",
              "2             NaN              44.00  18/01/2019               Pará   \n",
              "3             4.0              88.00  19/08/2019           Rondônia   \n",
              "4             2.0              44.00  18/10/2019          Tocantins   \n",
              "...           ...                ...         ...                ...   \n",
              "200781        3.0              58.32  07/02/2022     Rio de Janeiro   \n",
              "200782        1.0              21.06  06/02/2022     Espírito Santo   \n",
              "200783        3.0              43.74  25/01/2022             Paraná   \n",
              "200784        2.0              32.40  27/03/2022    Santa  Catarina   \n",
              "200785        1.0              14.58  02/04/2022  Rio Grande do Sul   \n",
              "\n",
              "             formapagto centro_distribuicao responsavelpedido  valor_comissao  \\\n",
              "0              Dinheiro          Rapid Pink            Carlos            0.44   \n",
              "1                   Pix          Rapid Pink       Maria Linda            0.42   \n",
              "2       Boleto Bancário          Rapid Pink             Julia            0.88   \n",
              "3       Boleto Bancário          Rapid Pink              Yuri            0.76   \n",
              "4        Cartão Crédito          Rapid Pink           Dolores            0.44   \n",
              "...                 ...                 ...               ...             ...   \n",
              "200781    Cartão Débito         Papa Léguas           Antonio            0.42   \n",
              "200782    Cartão Débito         Papa Léguas            Tereza            0.26   \n",
              "200783   Cartão Crédito           Tree True           Beatriz            0.48   \n",
              "200784              Pix           Tree True           Vitória            0.52   \n",
              "200785    Cartão Débito           Tree True            Vivian            0.20   \n",
              "\n",
              "        lucro_liquido categoriaprod  \n",
              "0                17.6   Alimentação  \n",
              "1                16.8   Alimentação  \n",
              "2                35.2   Alimentação  \n",
              "3                30.4   Alimentação  \n",
              "4                17.6   Alimentação  \n",
              "...               ...           ...  \n",
              "200781           14.7     Acessório  \n",
              "200782            9.1     Acessório  \n",
              "200783           16.8     Acessório  \n",
              "200784           18.2     Acessório  \n",
              "200785            7.0     Acessório  \n",
              "\n",
              "[200786 rows x 14 columns]"
            ],
            "text/html": [
              "\n",
              "  <div id=\"df-7f8400a9-db43-4c46-a7c6-60872849bbaf\" class=\"colab-df-container\">\n",
              "    <div>\n",
              "<style scoped>\n",
              "    .dataframe tbody tr th:only-of-type {\n",
              "        vertical-align: middle;\n",
              "    }\n",
              "\n",
              "    .dataframe tbody tr th {\n",
              "        vertical-align: top;\n",
              "    }\n",
              "\n",
              "    .dataframe thead th {\n",
              "        text-align: right;\n",
              "    }\n",
              "</style>\n",
              "<table border=\"1\" class=\"dataframe\">\n",
              "  <thead>\n",
              "    <tr style=\"text-align: right;\">\n",
              "      <th></th>\n",
              "      <th>cod_pedido</th>\n",
              "      <th>regiao_pais</th>\n",
              "      <th>produto</th>\n",
              "      <th>valor</th>\n",
              "      <th>quantidade</th>\n",
              "      <th>valor_total_bruto</th>\n",
              "      <th>data</th>\n",
              "      <th>estado</th>\n",
              "      <th>formapagto</th>\n",
              "      <th>centro_distribuicao</th>\n",
              "      <th>responsavelpedido</th>\n",
              "      <th>valor_comissao</th>\n",
              "      <th>lucro_liquido</th>\n",
              "      <th>categoriaprod</th>\n",
              "    </tr>\n",
              "  </thead>\n",
              "  <tbody>\n",
              "    <tr>\n",
              "      <th>0</th>\n",
              "      <td>1</td>\n",
              "      <td>Norte</td>\n",
              "      <td>Biscoito  True Champion 300g</td>\n",
              "      <td>22.00</td>\n",
              "      <td>2.0</td>\n",
              "      <td>44.00</td>\n",
              "      <td>13/06/2019</td>\n",
              "      <td>Acre</td>\n",
              "      <td>Dinheiro</td>\n",
              "      <td>Rapid Pink</td>\n",
              "      <td>Carlos</td>\n",
              "      <td>0.44</td>\n",
              "      <td>17.6</td>\n",
              "      <td>Alimentação</td>\n",
              "    </tr>\n",
              "    <tr>\n",
              "      <th>1</th>\n",
              "      <td>2</td>\n",
              "      <td>Norte</td>\n",
              "      <td>Biscoito  True Champion 300g</td>\n",
              "      <td>21.00</td>\n",
              "      <td>2.0</td>\n",
              "      <td>42.00</td>\n",
              "      <td>03/01/2019</td>\n",
              "      <td>Amapá</td>\n",
              "      <td>Pix</td>\n",
              "      <td>Rapid Pink</td>\n",
              "      <td>Maria Linda</td>\n",
              "      <td>0.42</td>\n",
              "      <td>16.8</td>\n",
              "      <td>Alimentação</td>\n",
              "    </tr>\n",
              "    <tr>\n",
              "      <th>2</th>\n",
              "      <td>3</td>\n",
              "      <td>Norte</td>\n",
              "      <td>Biscoito  True Champion 300g</td>\n",
              "      <td>22.00</td>\n",
              "      <td>NaN</td>\n",
              "      <td>44.00</td>\n",
              "      <td>18/01/2019</td>\n",
              "      <td>Pará</td>\n",
              "      <td>Boleto Bancário</td>\n",
              "      <td>Rapid Pink</td>\n",
              "      <td>Julia</td>\n",
              "      <td>0.88</td>\n",
              "      <td>35.2</td>\n",
              "      <td>Alimentação</td>\n",
              "    </tr>\n",
              "    <tr>\n",
              "      <th>3</th>\n",
              "      <td>4</td>\n",
              "      <td>Norte</td>\n",
              "      <td>Biscoito  True Champion 300g</td>\n",
              "      <td>19.00</td>\n",
              "      <td>4.0</td>\n",
              "      <td>88.00</td>\n",
              "      <td>19/08/2019</td>\n",
              "      <td>Rondônia</td>\n",
              "      <td>Boleto Bancário</td>\n",
              "      <td>Rapid Pink</td>\n",
              "      <td>Yuri</td>\n",
              "      <td>0.76</td>\n",
              "      <td>30.4</td>\n",
              "      <td>Alimentação</td>\n",
              "    </tr>\n",
              "    <tr>\n",
              "      <th>4</th>\n",
              "      <td>5</td>\n",
              "      <td>Norte</td>\n",
              "      <td>Biscoito  True Champion 300g</td>\n",
              "      <td>22.00</td>\n",
              "      <td>2.0</td>\n",
              "      <td>44.00</td>\n",
              "      <td>18/10/2019</td>\n",
              "      <td>Tocantins</td>\n",
              "      <td>Cartão Crédito</td>\n",
              "      <td>Rapid Pink</td>\n",
              "      <td>Dolores</td>\n",
              "      <td>0.44</td>\n",
              "      <td>17.6</td>\n",
              "      <td>Alimentação</td>\n",
              "    </tr>\n",
              "    <tr>\n",
              "      <th>...</th>\n",
              "      <td>...</td>\n",
              "      <td>...</td>\n",
              "      <td>...</td>\n",
              "      <td>...</td>\n",
              "      <td>...</td>\n",
              "      <td>...</td>\n",
              "      <td>...</td>\n",
              "      <td>...</td>\n",
              "      <td>...</td>\n",
              "      <td>...</td>\n",
              "      <td>...</td>\n",
              "      <td>...</td>\n",
              "      <td>...</td>\n",
              "      <td>...</td>\n",
              "    </tr>\n",
              "    <tr>\n",
              "      <th>200781</th>\n",
              "      <td>200976</td>\n",
              "      <td>Sudeste</td>\n",
              "      <td>Bandana Disney Mickey Fábrica Petti</td>\n",
              "      <td>19.44</td>\n",
              "      <td>3.0</td>\n",
              "      <td>58.32</td>\n",
              "      <td>07/02/2022</td>\n",
              "      <td>Rio de Janeiro</td>\n",
              "      <td>Cartão Débito</td>\n",
              "      <td>Papa Léguas</td>\n",
              "      <td>Antonio</td>\n",
              "      <td>0.42</td>\n",
              "      <td>14.7</td>\n",
              "      <td>Acessório</td>\n",
              "    </tr>\n",
              "    <tr>\n",
              "      <th>200782</th>\n",
              "      <td>200977</td>\n",
              "      <td>Sudeste</td>\n",
              "      <td>Bandana Disney Mickey Fábrica Petti</td>\n",
              "      <td>21.06</td>\n",
              "      <td>1.0</td>\n",
              "      <td>21.06</td>\n",
              "      <td>06/02/2022</td>\n",
              "      <td>Espírito Santo</td>\n",
              "      <td>Cartão Débito</td>\n",
              "      <td>Papa Léguas</td>\n",
              "      <td>Tereza</td>\n",
              "      <td>0.26</td>\n",
              "      <td>9.1</td>\n",
              "      <td>Acessório</td>\n",
              "    </tr>\n",
              "    <tr>\n",
              "      <th>200783</th>\n",
              "      <td>200978</td>\n",
              "      <td>Sul</td>\n",
              "      <td>Bandana Disney Mickey Fábrica Petti</td>\n",
              "      <td>14.58</td>\n",
              "      <td>3.0</td>\n",
              "      <td>43.74</td>\n",
              "      <td>25/01/2022</td>\n",
              "      <td>Paraná</td>\n",
              "      <td>Cartão Crédito</td>\n",
              "      <td>Tree True</td>\n",
              "      <td>Beatriz</td>\n",
              "      <td>0.48</td>\n",
              "      <td>16.8</td>\n",
              "      <td>Acessório</td>\n",
              "    </tr>\n",
              "    <tr>\n",
              "      <th>200784</th>\n",
              "      <td>200979</td>\n",
              "      <td>Sul</td>\n",
              "      <td>Bandana Disney Mickey Fábrica Petti</td>\n",
              "      <td>16.20</td>\n",
              "      <td>2.0</td>\n",
              "      <td>32.40</td>\n",
              "      <td>27/03/2022</td>\n",
              "      <td>Santa  Catarina</td>\n",
              "      <td>Pix</td>\n",
              "      <td>Tree True</td>\n",
              "      <td>Vitória</td>\n",
              "      <td>0.52</td>\n",
              "      <td>18.2</td>\n",
              "      <td>Acessório</td>\n",
              "    </tr>\n",
              "    <tr>\n",
              "      <th>200785</th>\n",
              "      <td>200980</td>\n",
              "      <td>Sul</td>\n",
              "      <td>Bandana Disney Mickey Fábrica Petti</td>\n",
              "      <td>14.58</td>\n",
              "      <td>1.0</td>\n",
              "      <td>14.58</td>\n",
              "      <td>02/04/2022</td>\n",
              "      <td>Rio Grande do Sul</td>\n",
              "      <td>Cartão Débito</td>\n",
              "      <td>Tree True</td>\n",
              "      <td>Vivian</td>\n",
              "      <td>0.20</td>\n",
              "      <td>7.0</td>\n",
              "      <td>Acessório</td>\n",
              "    </tr>\n",
              "  </tbody>\n",
              "</table>\n",
              "<p>200786 rows × 14 columns</p>\n",
              "</div>\n",
              "    <div class=\"colab-df-buttons\">\n",
              "\n",
              "  <div class=\"colab-df-container\">\n",
              "    <button class=\"colab-df-convert\" onclick=\"convertToInteractive('df-7f8400a9-db43-4c46-a7c6-60872849bbaf')\"\n",
              "            title=\"Convert this dataframe to an interactive table.\"\n",
              "            style=\"display:none;\">\n",
              "\n",
              "  <svg xmlns=\"http://www.w3.org/2000/svg\" height=\"24px\" viewBox=\"0 -960 960 960\">\n",
              "    <path d=\"M120-120v-720h720v720H120Zm60-500h600v-160H180v160Zm220 220h160v-160H400v160Zm0 220h160v-160H400v160ZM180-400h160v-160H180v160Zm440 0h160v-160H620v160ZM180-180h160v-160H180v160Zm440 0h160v-160H620v160Z\"/>\n",
              "  </svg>\n",
              "    </button>\n",
              "\n",
              "  <style>\n",
              "    .colab-df-container {\n",
              "      display:flex;\n",
              "      gap: 12px;\n",
              "    }\n",
              "\n",
              "    .colab-df-convert {\n",
              "      background-color: #E8F0FE;\n",
              "      border: none;\n",
              "      border-radius: 50%;\n",
              "      cursor: pointer;\n",
              "      display: none;\n",
              "      fill: #1967D2;\n",
              "      height: 32px;\n",
              "      padding: 0 0 0 0;\n",
              "      width: 32px;\n",
              "    }\n",
              "\n",
              "    .colab-df-convert:hover {\n",
              "      background-color: #E2EBFA;\n",
              "      box-shadow: 0px 1px 2px rgba(60, 64, 67, 0.3), 0px 1px 3px 1px rgba(60, 64, 67, 0.15);\n",
              "      fill: #174EA6;\n",
              "    }\n",
              "\n",
              "    .colab-df-buttons div {\n",
              "      margin-bottom: 4px;\n",
              "    }\n",
              "\n",
              "    [theme=dark] .colab-df-convert {\n",
              "      background-color: #3B4455;\n",
              "      fill: #D2E3FC;\n",
              "    }\n",
              "\n",
              "    [theme=dark] .colab-df-convert:hover {\n",
              "      background-color: #434B5C;\n",
              "      box-shadow: 0px 1px 3px 1px rgba(0, 0, 0, 0.15);\n",
              "      filter: drop-shadow(0px 1px 2px rgba(0, 0, 0, 0.3));\n",
              "      fill: #FFFFFF;\n",
              "    }\n",
              "  </style>\n",
              "\n",
              "    <script>\n",
              "      const buttonEl =\n",
              "        document.querySelector('#df-7f8400a9-db43-4c46-a7c6-60872849bbaf button.colab-df-convert');\n",
              "      buttonEl.style.display =\n",
              "        google.colab.kernel.accessAllowed ? 'block' : 'none';\n",
              "\n",
              "      async function convertToInteractive(key) {\n",
              "        const element = document.querySelector('#df-7f8400a9-db43-4c46-a7c6-60872849bbaf');\n",
              "        const dataTable =\n",
              "          await google.colab.kernel.invokeFunction('convertToInteractive',\n",
              "                                                    [key], {});\n",
              "        if (!dataTable) return;\n",
              "\n",
              "        const docLinkHtml = 'Like what you see? Visit the ' +\n",
              "          '<a target=\"_blank\" href=https://colab.research.google.com/notebooks/data_table.ipynb>data table notebook</a>'\n",
              "          + ' to learn more about interactive tables.';\n",
              "        element.innerHTML = '';\n",
              "        dataTable['output_type'] = 'display_data';\n",
              "        await google.colab.output.renderOutput(dataTable, element);\n",
              "        const docLink = document.createElement('div');\n",
              "        docLink.innerHTML = docLinkHtml;\n",
              "        element.appendChild(docLink);\n",
              "      }\n",
              "    </script>\n",
              "  </div>\n",
              "\n",
              "\n",
              "<div id=\"df-c4a75418-4c9e-4ca1-bcd5-382a6f202095\">\n",
              "  <button class=\"colab-df-quickchart\" onclick=\"quickchart('df-c4a75418-4c9e-4ca1-bcd5-382a6f202095')\"\n",
              "            title=\"Suggest charts\"\n",
              "            style=\"display:none;\">\n",
              "\n",
              "<svg xmlns=\"http://www.w3.org/2000/svg\" height=\"24px\"viewBox=\"0 0 24 24\"\n",
              "     width=\"24px\">\n",
              "    <g>\n",
              "        <path d=\"M19 3H5c-1.1 0-2 .9-2 2v14c0 1.1.9 2 2 2h14c1.1 0 2-.9 2-2V5c0-1.1-.9-2-2-2zM9 17H7v-7h2v7zm4 0h-2V7h2v10zm4 0h-2v-4h2v4z\"/>\n",
              "    </g>\n",
              "</svg>\n",
              "  </button>\n",
              "\n",
              "<style>\n",
              "  .colab-df-quickchart {\n",
              "      --bg-color: #E8F0FE;\n",
              "      --fill-color: #1967D2;\n",
              "      --hover-bg-color: #E2EBFA;\n",
              "      --hover-fill-color: #174EA6;\n",
              "      --disabled-fill-color: #AAA;\n",
              "      --disabled-bg-color: #DDD;\n",
              "  }\n",
              "\n",
              "  [theme=dark] .colab-df-quickchart {\n",
              "      --bg-color: #3B4455;\n",
              "      --fill-color: #D2E3FC;\n",
              "      --hover-bg-color: #434B5C;\n",
              "      --hover-fill-color: #FFFFFF;\n",
              "      --disabled-bg-color: #3B4455;\n",
              "      --disabled-fill-color: #666;\n",
              "  }\n",
              "\n",
              "  .colab-df-quickchart {\n",
              "    background-color: var(--bg-color);\n",
              "    border: none;\n",
              "    border-radius: 50%;\n",
              "    cursor: pointer;\n",
              "    display: none;\n",
              "    fill: var(--fill-color);\n",
              "    height: 32px;\n",
              "    padding: 0;\n",
              "    width: 32px;\n",
              "  }\n",
              "\n",
              "  .colab-df-quickchart:hover {\n",
              "    background-color: var(--hover-bg-color);\n",
              "    box-shadow: 0 1px 2px rgba(60, 64, 67, 0.3), 0 1px 3px 1px rgba(60, 64, 67, 0.15);\n",
              "    fill: var(--button-hover-fill-color);\n",
              "  }\n",
              "\n",
              "  .colab-df-quickchart-complete:disabled,\n",
              "  .colab-df-quickchart-complete:disabled:hover {\n",
              "    background-color: var(--disabled-bg-color);\n",
              "    fill: var(--disabled-fill-color);\n",
              "    box-shadow: none;\n",
              "  }\n",
              "\n",
              "  .colab-df-spinner {\n",
              "    border: 2px solid var(--fill-color);\n",
              "    border-color: transparent;\n",
              "    border-bottom-color: var(--fill-color);\n",
              "    animation:\n",
              "      spin 1s steps(1) infinite;\n",
              "  }\n",
              "\n",
              "  @keyframes spin {\n",
              "    0% {\n",
              "      border-color: transparent;\n",
              "      border-bottom-color: var(--fill-color);\n",
              "      border-left-color: var(--fill-color);\n",
              "    }\n",
              "    20% {\n",
              "      border-color: transparent;\n",
              "      border-left-color: var(--fill-color);\n",
              "      border-top-color: var(--fill-color);\n",
              "    }\n",
              "    30% {\n",
              "      border-color: transparent;\n",
              "      border-left-color: var(--fill-color);\n",
              "      border-top-color: var(--fill-color);\n",
              "      border-right-color: var(--fill-color);\n",
              "    }\n",
              "    40% {\n",
              "      border-color: transparent;\n",
              "      border-right-color: var(--fill-color);\n",
              "      border-top-color: var(--fill-color);\n",
              "    }\n",
              "    60% {\n",
              "      border-color: transparent;\n",
              "      border-right-color: var(--fill-color);\n",
              "    }\n",
              "    80% {\n",
              "      border-color: transparent;\n",
              "      border-right-color: var(--fill-color);\n",
              "      border-bottom-color: var(--fill-color);\n",
              "    }\n",
              "    90% {\n",
              "      border-color: transparent;\n",
              "      border-bottom-color: var(--fill-color);\n",
              "    }\n",
              "  }\n",
              "</style>\n",
              "\n",
              "  <script>\n",
              "    async function quickchart(key) {\n",
              "      const quickchartButtonEl =\n",
              "        document.querySelector('#' + key + ' button');\n",
              "      quickchartButtonEl.disabled = true;  // To prevent multiple clicks.\n",
              "      quickchartButtonEl.classList.add('colab-df-spinner');\n",
              "      try {\n",
              "        const charts = await google.colab.kernel.invokeFunction(\n",
              "            'suggestCharts', [key], {});\n",
              "      } catch (error) {\n",
              "        console.error('Error during call to suggestCharts:', error);\n",
              "      }\n",
              "      quickchartButtonEl.classList.remove('colab-df-spinner');\n",
              "      quickchartButtonEl.classList.add('colab-df-quickchart-complete');\n",
              "    }\n",
              "    (() => {\n",
              "      let quickchartButtonEl =\n",
              "        document.querySelector('#df-c4a75418-4c9e-4ca1-bcd5-382a6f202095 button');\n",
              "      quickchartButtonEl.style.display =\n",
              "        google.colab.kernel.accessAllowed ? 'block' : 'none';\n",
              "    })();\n",
              "  </script>\n",
              "</div>\n",
              "\n",
              "  <div id=\"id_393076e1-6b3f-494c-8325-556b15924ea0\">\n",
              "    <style>\n",
              "      .colab-df-generate {\n",
              "        background-color: #E8F0FE;\n",
              "        border: none;\n",
              "        border-radius: 50%;\n",
              "        cursor: pointer;\n",
              "        display: none;\n",
              "        fill: #1967D2;\n",
              "        height: 32px;\n",
              "        padding: 0 0 0 0;\n",
              "        width: 32px;\n",
              "      }\n",
              "\n",
              "      .colab-df-generate:hover {\n",
              "        background-color: #E2EBFA;\n",
              "        box-shadow: 0px 1px 2px rgba(60, 64, 67, 0.3), 0px 1px 3px 1px rgba(60, 64, 67, 0.15);\n",
              "        fill: #174EA6;\n",
              "      }\n",
              "\n",
              "      [theme=dark] .colab-df-generate {\n",
              "        background-color: #3B4455;\n",
              "        fill: #D2E3FC;\n",
              "      }\n",
              "\n",
              "      [theme=dark] .colab-df-generate:hover {\n",
              "        background-color: #434B5C;\n",
              "        box-shadow: 0px 1px 3px 1px rgba(0, 0, 0, 0.15);\n",
              "        filter: drop-shadow(0px 1px 2px rgba(0, 0, 0, 0.3));\n",
              "        fill: #FFFFFF;\n",
              "      }\n",
              "    </style>\n",
              "    <button class=\"colab-df-generate\" onclick=\"generateWithVariable('vendas')\"\n",
              "            title=\"Generate code using this dataframe.\"\n",
              "            style=\"display:none;\">\n",
              "\n",
              "  <svg xmlns=\"http://www.w3.org/2000/svg\" height=\"24px\"viewBox=\"0 0 24 24\"\n",
              "       width=\"24px\">\n",
              "    <path d=\"M7,19H8.4L18.45,9,17,7.55,7,17.6ZM5,21V16.75L18.45,3.32a2,2,0,0,1,2.83,0l1.4,1.43a1.91,1.91,0,0,1,.58,1.4,1.91,1.91,0,0,1-.58,1.4L9.25,21ZM18.45,9,17,7.55Zm-12,3A5.31,5.31,0,0,0,4.9,8.1,5.31,5.31,0,0,0,1,6.5,5.31,5.31,0,0,0,4.9,4.9,5.31,5.31,0,0,0,6.5,1,5.31,5.31,0,0,0,8.1,4.9,5.31,5.31,0,0,0,12,6.5,5.46,5.46,0,0,0,6.5,12Z\"/>\n",
              "  </svg>\n",
              "    </button>\n",
              "    <script>\n",
              "      (() => {\n",
              "      const buttonEl =\n",
              "        document.querySelector('#id_393076e1-6b3f-494c-8325-556b15924ea0 button.colab-df-generate');\n",
              "      buttonEl.style.display =\n",
              "        google.colab.kernel.accessAllowed ? 'block' : 'none';\n",
              "\n",
              "      buttonEl.onclick = () => {\n",
              "        google.colab.notebook.generateWithVariable('vendas');\n",
              "      }\n",
              "      })();\n",
              "    </script>\n",
              "  </div>\n",
              "\n",
              "    </div>\n",
              "  </div>\n"
            ],
            "application/vnd.google.colaboratory.intrinsic+json": {
              "type": "dataframe",
              "variable_name": "vendas"
            }
          },
          "metadata": {},
          "execution_count": 6
        }
      ]
    },
    {
      "cell_type": "code",
      "source": [
        "print(vendas.columns)\n"
      ],
      "metadata": {
        "colab": {
          "base_uri": "https://localhost:8080/"
        },
        "id": "taqvXFdENOz8",
        "outputId": "38d64110-6427-4242-8c94-b3ad75788c52"
      },
      "execution_count": 7,
      "outputs": [
        {
          "output_type": "stream",
          "name": "stdout",
          "text": [
            "Index(['cod_pedido', 'regiao_pais', 'produto', 'valor', 'quantidade',\n",
            "       'valor_total_bruto', 'data', 'estado', 'formapagto',\n",
            "       'centro_distribuicao', 'responsavelpedido', 'valor_comissao',\n",
            "       'lucro_liquido', 'categoriaprod'],\n",
            "      dtype='object')\n"
          ]
        }
      ]
    },
    {
      "cell_type": "code",
      "source": [
        "vendas.columns = vendas.columns.str.strip()\n"
      ],
      "metadata": {
        "id": "wPCJZfAvv2MO"
      },
      "execution_count": 8,
      "outputs": []
    },
    {
      "cell_type": "markdown",
      "source": [
        "# Calcula a média de preço da população para cada ano\n"
      ],
      "metadata": {
        "id": "X1qKOOPty7Vw"
      }
    },
    {
      "cell_type": "code",
      "source": [
        "media_preco_populacao_2019 = vendas_2019['valor'].mean()\n",
        "print(media_preco_populacao_2019)\n"
      ],
      "metadata": {
        "colab": {
          "base_uri": "https://localhost:8080/"
        },
        "id": "FKcAZZDNPuCj",
        "outputId": "b415b180-80e6-425e-88c5-26d7ab1342a2"
      },
      "execution_count": 9,
      "outputs": [
        {
          "output_type": "stream",
          "name": "stdout",
          "text": [
            "87.63387228287891\n"
          ]
        }
      ]
    },
    {
      "cell_type": "code",
      "source": [
        "media_preco_populacao_2020 = vendas_2020['valor'].mean()\n",
        "print(media_preco_populacao_2020)"
      ],
      "metadata": {
        "colab": {
          "base_uri": "https://localhost:8080/"
        },
        "id": "gDtqt8PDjPRY",
        "outputId": "60bd4a97-0ef2-4e88-b661-c8ab87595cf9"
      },
      "execution_count": 10,
      "outputs": [
        {
          "output_type": "stream",
          "name": "stdout",
          "text": [
            "97.9981105631975\n"
          ]
        }
      ]
    },
    {
      "cell_type": "code",
      "source": [
        "media_preco_populacao_2021 = vendas_2021['valor'].mean()\n",
        "print(media_preco_populacao_2021)\n"
      ],
      "metadata": {
        "colab": {
          "base_uri": "https://localhost:8080/"
        },
        "id": "wfpCr-AfRHX6",
        "outputId": "335a5b53-8c68-4e55-d220-735cbb0b12d3"
      },
      "execution_count": 11,
      "outputs": [
        {
          "output_type": "stream",
          "name": "stdout",
          "text": [
            "116.75660315111769\n"
          ]
        }
      ]
    },
    {
      "cell_type": "code",
      "source": [
        "media_preco_populacao_2022 = vendas_2022['valor'].mean()\n",
        "print(media_preco_populacao_2022)\n"
      ],
      "metadata": {
        "colab": {
          "base_uri": "https://localhost:8080/"
        },
        "id": "KTBTmU-tRfqx",
        "outputId": "28021016-8dc7-4399-8ea2-103eee5b2e7c"
      },
      "execution_count": 12,
      "outputs": [
        {
          "output_type": "stream",
          "name": "stdout",
          "text": [
            "141.87574285714285\n"
          ]
        }
      ]
    },
    {
      "cell_type": "code",
      "source": [
        "print(media_preco_populacao_2019)\n",
        "print(media_preco_populacao_2020)\n",
        "print(media_preco_populacao_2021)\n",
        "print(media_preco_populacao_2022)"
      ],
      "metadata": {
        "colab": {
          "base_uri": "https://localhost:8080/"
        },
        "id": "tJo_OIwkhik8",
        "outputId": "4047f649-136c-458b-ab67-943467056d0c"
      },
      "execution_count": 14,
      "outputs": [
        {
          "output_type": "stream",
          "name": "stdout",
          "text": [
            "87.63387228287891\n",
            "97.9981105631975\n",
            "116.75660315111769\n",
            "141.87574285714285\n"
          ]
        }
      ]
    },
    {
      "cell_type": "markdown",
      "source": [
        "# Calcula a média de preço para cada região"
      ],
      "metadata": {
        "id": "4HiFedufLRpl"
      }
    },
    {
      "cell_type": "code",
      "source": [
        "media_preco_regiao_2019 = vendas_2019.groupby('regiao_pais')['valor'].mean()\n",
        "print(media_preco_regiao_2019)"
      ],
      "metadata": {
        "colab": {
          "base_uri": "https://localhost:8080/"
        },
        "id": "CNLrlHiuLP-b",
        "outputId": "124972d8-3ff9-4206-9498-e67bad28a89f"
      },
      "execution_count": 15,
      "outputs": [
        {
          "output_type": "stream",
          "name": "stdout",
          "text": [
            "regiao_pais\n",
            "Centro Oeste    87.757116\n",
            "Nordeste        87.534934\n",
            "Norte           87.702111\n",
            "Sudeste         87.691986\n",
            "Sul             87.411540\n",
            "Name: valor, dtype: float64\n"
          ]
        }
      ]
    },
    {
      "cell_type": "code",
      "source": [
        "media_preco_regiao_2020 = vendas_2020.groupby('regiao_pais')['valor'].mean()\n",
        "print(media_preco_regiao_2020)"
      ],
      "metadata": {
        "colab": {
          "base_uri": "https://localhost:8080/"
        },
        "id": "MeHff7ENLQOm",
        "outputId": "272332df-c063-4382-e9d9-d7788b25a5d4"
      },
      "execution_count": 16,
      "outputs": [
        {
          "output_type": "stream",
          "name": "stdout",
          "text": [
            "regiao_pais\n",
            "Centro Oeste    98.081498\n",
            "Nordeste        97.966138\n",
            "Norte           98.133558\n",
            "Sudeste         97.937989\n",
            "Sul             97.735413\n",
            "Name: valor, dtype: float64\n"
          ]
        }
      ]
    },
    {
      "cell_type": "code",
      "source": [
        "media_preco_regiao_2021 = vendas_2021.groupby('regiao_pais')['valor'].mean()\n",
        "print(media_preco_regiao_2021)"
      ],
      "metadata": {
        "colab": {
          "base_uri": "https://localhost:8080/"
        },
        "id": "3Aquf0scLQim",
        "outputId": "cdbcdac6-a2de-412b-b3f8-fdd06f4a6215"
      },
      "execution_count": 17,
      "outputs": [
        {
          "output_type": "stream",
          "name": "stdout",
          "text": [
            "regiao_pais\n",
            "Centro Oeste    116.768680\n",
            "Nordeste        116.853671\n",
            "Norte           116.469430\n",
            "Sudeste         117.006368\n",
            "Sul             116.799833\n",
            "Name: valor, dtype: float64\n"
          ]
        }
      ]
    },
    {
      "cell_type": "code",
      "source": [
        "media_preco_regiao_2022 = vendas_2022.groupby('regiao_pais')['valor'].mean()\n",
        "print(media_preco_regiao_2022)"
      ],
      "metadata": {
        "colab": {
          "base_uri": "https://localhost:8080/"
        },
        "id": "5vLS3isULQk-",
        "outputId": "cf47c3f5-05cd-464d-c395-0d087ca64faa"
      },
      "execution_count": 18,
      "outputs": [
        {
          "output_type": "stream",
          "name": "stdout",
          "text": [
            "regiao_pais\n",
            "Centro Oeste    142.226317\n",
            "Nordeste        141.963616\n",
            "Norte           141.996811\n",
            "Sudeste         141.589929\n",
            "Sul             141.426429\n",
            "Name: valor, dtype: float64\n"
          ]
        }
      ]
    },
    {
      "cell_type": "code",
      "source": [
        "media_preco_regiao = pd.concat([media_preco_regiao_2019, media_preco_regiao_2020, media_preco_regiao_2021, media_preco_regiao_2022], axis=1)\n",
        "print(media_preco_regiao)"
      ],
      "metadata": {
        "colab": {
          "base_uri": "https://localhost:8080/"
        },
        "id": "CehN_OkPLQoa",
        "outputId": "c148d35a-6c3c-4b12-e4cc-93298fc726d6"
      },
      "execution_count": 19,
      "outputs": [
        {
          "output_type": "stream",
          "name": "stdout",
          "text": [
            "                  valor      valor       valor       valor\n",
            "regiao_pais                                               \n",
            "Centro Oeste  87.757116  98.081498  116.768680  142.226317\n",
            "Nordeste      87.534934  97.966138  116.853671  141.963616\n",
            "Norte         87.702111  98.133558  116.469430  141.996811\n",
            "Sudeste       87.691986  97.937989  117.006368  141.589929\n",
            "Sul           87.411540  97.735413  116.799833  141.426429\n"
          ]
        }
      ]
    },
    {
      "cell_type": "markdown",
      "source": [
        "#Média de preço de alguma modalidade de pagamento e à média da população"
      ],
      "metadata": {
        "id": "jiqFM_hA_Igl"
      }
    },
    {
      "cell_type": "code",
      "source": [
        "vendas['data'] = pd.to_datetime(vendas['data'])"
      ],
      "metadata": {
        "id": "xyiedbw3-JAx"
      },
      "execution_count": 26,
      "outputs": []
    },
    {
      "cell_type": "code",
      "source": [
        "vendas['ano'] = vendas['data'].dt.year"
      ],
      "metadata": {
        "id": "fGznnN_K-2yt"
      },
      "execution_count": 23,
      "outputs": []
    },
    {
      "cell_type": "code",
      "source": [
        "media_preco_forma_pagamento = vendas.groupby(['ano', 'formapagto'])['valor'].mean()\n"
      ],
      "metadata": {
        "id": "06ng3Ogv-7JH"
      },
      "execution_count": 24,
      "outputs": []
    },
    {
      "cell_type": "code",
      "source": [
        "print(media_preco_forma_pagamento)\n"
      ],
      "metadata": {
        "colab": {
          "base_uri": "https://localhost:8080/"
        },
        "id": "CU4kLkFm-_0-",
        "outputId": "1666b6b6-b98c-4777-a2f9-4a88d69590ef"
      },
      "execution_count": 25,
      "outputs": [
        {
          "output_type": "stream",
          "name": "stdout",
          "text": [
            "ano   formapagto     \n",
            "2019  Boleto Bancário     87.761350\n",
            "      Cartão Crédito      86.224092\n",
            "      Cartão Débito       87.985218\n",
            "      Dinheiro            88.803202\n",
            "      Pix                 87.445296\n",
            "2020  Boleto Bancário     99.249975\n",
            "      Cartão Crédito      97.923725\n",
            "      Cartão Débito       94.577728\n",
            "      Dinheiro           100.916170\n",
            "      Pix                 97.364406\n",
            "2021  Boleto Bancário    116.066067\n",
            "      Cartão Crédito     118.734018\n",
            "      Cartão Débito      116.711709\n",
            "      Dinheiro           115.719205\n",
            "      Pix                116.545924\n",
            "2022  Boleto Bancário    139.421762\n",
            "      Cartão Crédito     147.046044\n",
            "      Cartão Débito      139.784489\n",
            "      Dinheiro           139.661669\n",
            "      Pix                143.368393\n",
            "Name: valor, dtype: float64\n"
          ]
        }
      ]
    },
    {
      "cell_type": "markdown",
      "source": [
        "Analise"
      ],
      "metadata": {
        "id": "mqU5tTnhdAnk"
      }
    },
    {
      "cell_type": "code",
      "execution_count": 20,
      "metadata": {
        "colab": {
          "base_uri": "https://localhost:8080/",
          "height": 705
        },
        "id": "Rw98loGLWnyu",
        "outputId": "4698da0b-a9e2-4c94-8062-4a907c47d743"
      },
      "outputs": [
        {
          "output_type": "error",
          "ename": "NameError",
          "evalue": "name 'outliers' is not defined",
          "traceback": [
            "\u001b[0;31m---------------------------------------------------------------------------\u001b[0m",
            "\u001b[0;31mNameError\u001b[0m                                 Traceback (most recent call last)",
            "\u001b[0;32m<ipython-input-20-e51669c5280a>\u001b[0m in \u001b[0;36m<cell line: 12>\u001b[0;34m()\u001b[0m\n\u001b[1;32m     10\u001b[0m \u001b[0;34m\u001b[0m\u001b[0m\n\u001b[1;32m     11\u001b[0m \u001b[0mfig\u001b[0m\u001b[0;34m,\u001b[0m \u001b[0max\u001b[0m \u001b[0;34m=\u001b[0m \u001b[0mplt\u001b[0m\u001b[0;34m.\u001b[0m\u001b[0msubplots\u001b[0m\u001b[0;34m(\u001b[0m\u001b[0mfigsize\u001b[0m\u001b[0;34m=\u001b[0m\u001b[0;34m(\u001b[0m\u001b[0;36m10\u001b[0m\u001b[0;34m,\u001b[0m \u001b[0;36m5.2\u001b[0m\u001b[0;34m)\u001b[0m\u001b[0;34m,\u001b[0m \u001b[0mlayout\u001b[0m\u001b[0;34m=\u001b[0m\u001b[0;34m'constrained'\u001b[0m\u001b[0;34m)\u001b[0m\u001b[0;34m\u001b[0m\u001b[0;34m\u001b[0m\u001b[0m\n\u001b[0;32m---> 12\u001b[0;31m \u001b[0mdf_sorted\u001b[0m \u001b[0;34m=\u001b[0m \u001b[0moutliers\u001b[0m\u001b[0;34m.\u001b[0m\u001b[0msort_values\u001b[0m\u001b[0;34m(\u001b[0m\u001b[0;34m'cod_pedido'\u001b[0m\u001b[0;34m,\u001b[0m \u001b[0mascending\u001b[0m\u001b[0;34m=\u001b[0m\u001b[0;32mTrue\u001b[0m\u001b[0;34m)\u001b[0m\u001b[0;34m\u001b[0m\u001b[0;34m\u001b[0m\u001b[0m\n\u001b[0m\u001b[1;32m     13\u001b[0m \u001b[0;32mfor\u001b[0m \u001b[0mi\u001b[0m\u001b[0;34m,\u001b[0m \u001b[0;34m(\u001b[0m\u001b[0mseries_name\u001b[0m\u001b[0;34m,\u001b[0m \u001b[0mseries\u001b[0m\u001b[0;34m)\u001b[0m \u001b[0;32min\u001b[0m \u001b[0menumerate\u001b[0m\u001b[0;34m(\u001b[0m\u001b[0mdf_sorted\u001b[0m\u001b[0;34m.\u001b[0m\u001b[0mgroupby\u001b[0m\u001b[0;34m(\u001b[0m\u001b[0;34m'formapagto'\u001b[0m\u001b[0;34m)\u001b[0m\u001b[0;34m)\u001b[0m\u001b[0;34m:\u001b[0m\u001b[0;34m\u001b[0m\u001b[0;34m\u001b[0m\u001b[0m\n\u001b[1;32m     14\u001b[0m   \u001b[0m_plot_series\u001b[0m\u001b[0;34m(\u001b[0m\u001b[0mseries\u001b[0m\u001b[0;34m,\u001b[0m \u001b[0mseries_name\u001b[0m\u001b[0;34m,\u001b[0m \u001b[0mi\u001b[0m\u001b[0;34m)\u001b[0m\u001b[0;34m\u001b[0m\u001b[0;34m\u001b[0m\u001b[0m\n",
            "\u001b[0;31mNameError\u001b[0m: name 'outliers' is not defined"
          ]
        },
        {
          "output_type": "display_data",
          "data": {
            "text/plain": [
              "<Figure size 1000x520 with 1 Axes>"
            ],
            "image/png": "[encoded data removed]"
          },
          "metadata": {}
        }
      ],
      "source": [
        "#REFAZER ESSE GRAFICO - FICOU MUITO RUIM A ANALISE\n",
        "def _plot_series(series, series_name, series_index=0):\n",
        "  from matplotlib import pyplot as plt\n",
        "  import seaborn as sns\n",
        "  palette = list(sns.palettes.mpl_palette('Dark2'))\n",
        "  xs = series['cod_pedido']\n",
        "  ys = series['valor']\n",
        "\n",
        "  plt.plot(xs, ys, label=series_name, color=palette[series_index % len(palette)])\n",
        "\n",
        "fig, ax = plt.subplots(figsize=(10, 5.2), layout='constrained')\n",
        "df_sorted = outliers.sort_values('cod_pedido', ascending=True)\n",
        "for i, (series_name, series) in enumerate(df_sorted.groupby('formapagto')):\n",
        "  _plot_series(series, series_name, i)\n",
        "  fig.legend(title='formapagto', bbox_to_anchor=(1, 1), loc='upper left')\n",
        "sns.despine(fig=fig, ax=ax)\n",
        "plt.xlabel('cod_pedido')\n",
        "_ = plt.ylabel('valor')"
      ]
    },
    {
      "cell_type": "code",
      "source": [],
      "metadata": {
        "id": "ly1zENAG-ATD"
      },
      "execution_count": null,
      "outputs": []
    }
  ]
}