{
  "nbformat": 4,
  "nbformat_minor": 0,
  "metadata": {
    "colab": {
      "provenance": [],
      "authorship_tag": "ABX9TyNivWQMzlOIaRK3Up1yijvs",
      "include_colab_link": true
    },
    "kernelspec": {
      "name": "python3",
      "display_name": "Python 3"
    },
    "language_info": {
      "name": "python"
    }
  },
  "cells": [
    {
      "cell_type": "markdown",
      "metadata": {
        "id": "view-in-github",
        "colab_type": "text"
      },
      "source": [
        "<a href=\"https://colab.research.google.com/github/Jamyly-NMelo/Universo-Aluna-Fiap/blob/main/SQLite_.ipynb\" target=\"_parent\"><img src=\"https://colab.research.google.com/assets/colab-badge.svg\" alt=\"Open In Colab\"/></a>"
      ]
    },
    {
      "cell_type": "markdown",
      "source": [
        "SQLite"
      ],
      "metadata": {
        "id": "wCXJi5v2w1TL"
      }
    },
    {
      "cell_type": "markdown",
      "source": [
        " Configurar e usar esse banco de dados"
      ],
      "metadata": {
        "id": "rUBN290ow7yK"
      }
    },
    {
      "cell_type": "code",
      "execution_count": 1,
      "metadata": {
        "id": "S90KZQexwAus"
      },
      "outputs": [],
      "source": [
        "import numpy as np\n",
        "import sympy as smp\n",
        "import pandas as pd\n",
        "import matplotlib.pyplot as plt\n",
        "import statsmodels.formula.api as sm\n",
        "import sqlite3"
      ]
    },
    {
      "cell_type": "markdown",
      "source": [
        "Criar tabelas"
      ],
      "metadata": {
        "id": "eov55ZxjxBMh"
      }
    },
    {
      "cell_type": "code",
      "source": [
        "CREATE TABLE Alunos (\n",
        "  ID_Aluno  int PRIMARY KEY,\n",
        "  Nome_Alunos varchar (100),\n",
        "  DataNascimento_Alunos DATE,\n",
        "  Genero_Alunos varchar (100),\n",
        "  Endereco_Alunos varchar (100),\n",
        "  Telefone_Contato_Alunos INT,\n",
        "  Email_Alunos varchar (100)\n",
        "  );\n",
        "\n",
        " CREATE TABLE Professores (\n",
        "   ID_do_Professor int PRIMARY KEY,\n",
        "   Nome_do_Professor varchar (100),\n",
        "   Data_de_Nascimento DATE,\n",
        "   Genero varchar (100),\n",
        "   Telefone_de_Contato INT,\n",
        "   Email_Professores varchar (100)\n",
        "   );\n",
        "\n",
        "\n",
        " CREATE TABLE Disciplinas (\n",
        "  ID_Disciplina int PRIMARY KEY,\n",
        "  Nome_Disciplina varchar (100),\n",
        "  Descrição_Disciplinas TEXT,\n",
        "  Carga_Horária TIMESTAMP,\n",
        "  ID_Professor int,\n",
        "  FOREIGN KEY (ID_Professor) REFERENCES Professores(ID_Professor)\n",
        "  );\n",
        "\n",
        "\n",
        "CREATE TABLE Turmas (\n",
        "    ID_da_Turma VARCHAR2(25) PRIMARY KEY,\n",
        "    Nome_da_Turma VARCHAR2(100),\n",
        "    Ano_Letivo INT,\n",
        "    ID_do_Professor_Orientador VARCHAR2(25),\n",
        "    FOREIGN KEY (ID_do_Professor_Orientador) REFERENCES Professores(ID_do_Professor)\n",
        ");\n",
        "\n",
        "CREATE TABLE Turma_Disciplinas (\n",
        "    ID_da_Turma VARCHAR2(25),\n",
        "    ID_da_Disciplina VARCHAR2(25),\n",
        "    FOREIGN KEY (ID_da_Turma) REFERENCES Turmas(ID_da_Turma),\n",
        "    FOREIGN KEY (ID_da_Disciplina) REFERENCES Disciplinas(ID_da_Disciplina),\n",
        "    PRIMARY KEY (ID_da_Turma, ID_da_Disciplina)\n",
        ");\n",
        "\n",
        "\n",
        "CREATE TABLE Turma_Alunos (\n",
        "    ID_da_Turma VARCHAR2(25),\n",
        "    ID_do_Aluno VARCHAR2(25),\n",
        "    FOREIGN KEY (ID_da_Turma) REFERENCES Turmas(ID_da_Turma),\n",
        "    FOREIGN KEY (ID_do_Aluno) REFERENCES Alunos(ID_do_Aluno),\n",
        "    PRIMARY KEY (ID_da_Turma, ID_do_Aluno)\n",
        ");\n",
        "\n",
        " CREATE TABLE Notas (\n",
        "  ID_Nota int PRIMARY KEY,\n",
        "  ID_Aluno int,\n",
        "  ID_Disciplina int,\n",
        "  Valor_Nota int,\n",
        "  Data_Avaliação DATE,\n",
        "  FOREIGN KEY (ID_Aluno) REFERENCES Alunos (ID_Aluno),\n",
        "  FOREIGN KEY (ID_Disciplina) REFERENCES Disciplinas (ID_Disciplina)\n",
        "  );"
      ],
      "metadata": {
        "id": "M8fSzNC3RHcG"
      },
      "execution_count": null,
      "outputs": []
    },
    {
      "cell_type": "markdown",
      "source": [
        "Inserir dados"
      ],
      "metadata": {
        "id": "ZnjckN833mhs"
      }
    },
    {
      "cell_type": "code",
      "source": [
        "\n",
        "INSERT INTO Alunos (ID_Aluno, Nome_Alunos, DataNascimento_Alunos, Genero_Alunos, Endereco_Alunos, Telefone_Contato_Alunos, Email_Alunos)\n",
        "VALUES\n",
        "(1,\t'João Silva', '2005-03-15', 'Masculino', 'Rua das Flores, 123', '11 9876-5432', 'joao@email.com'),\n",
        "(2, 'Maria Santos',\t'2006-06-20', 'Feminino', 'Avenida Principal, 456', '11 8765-4321',\t'maria@email.com'),\n",
        "(3,\t'Pedro Soares',\t'2004-01-10', 'Masculino', 'Rua Central, 789', '11 7654-3210',\t'pedro@email.com'),\n",
        "(4, 'Ana Lima',\t'2005-04-02', 'Feminino', 'Rua da Escola 56',\t'11 8765-4321',\t'ana@email.com'),\n",
        "(5, 'Mariana Fernandes', '2005-08-12', 'Feminino', 'Avenida da Paz, 789',\t'11 5678-1234',\t'mariana@email.com'),\n",
        "(6, 'Lucas Costa', '2003-11-25', 'Masculino', 'Rua Principal, 456',\t'11 1234-5678',\t'lucas@email.com'),\n",
        "(7, 'Isabela Santos', '2006-09-10', 'Feminino',\t'Rua da Amizade, 789',\t'11 9876-5432',\t'isabela@email.com'),\n",
        "(8, 'Gustavo Pereira', '2004-05-15', 'Masculino', 'Avenida dos Sonhos, 123', '11 7654-3210', 'gustavo@email.com'),\n",
        "(9, 'Carolina Oliveira', '2005-02-20', 'Feminino', 'Rua da Alegria, 456', '11 8765-4321', 'carolina@email.com'),\n",
        "(10, 'Daniel Silva', '2003-10-05', 'Masculino',\t'Avenida Central, 789',\t'11 1234-5678',\t'daniel@email.com'),\n",
        "(11, 'Larissa Souza', '2004-12-08',\t'Feminino',\t'Rua da Felicidade, 123', '11 9876-5432', 'larissa@email.com'),\n",
        "(12, 'Bruno Costa',\t'2005-07-30', 'Masculino', 'Avenida Principal, 456', '11 7654-3210', 'bruno@email.com'),\n",
        "(13, 'Camila Rodrigues', '2006-03-22', 'Feminino', 'Rua das Estrelas, 789', '11 8765-4321', 'camila@email.com'),\n",
        "(14, 'Rafael Fernandes', '2004-11-18', 'Masculino', 'Avenida dos Sonhos, 123', '11 1234-5678',\t'rafael@email.com'),\n",
        "(15, 'Letícia Oliveira', '2005-01-05', 'Feminino',\t'Rua da Alegria, 456',\t'11 9876-5432',\t'leticia@email.com'),\n",
        "(16, 'Fernanda Lima', '2004-02-12',\t'Feminino',\t'Rua da Esperança, 789', '11 4567-8901', 'fernanda@email.com'),\n",
        "(17, 'Vinícius Santos',\t'2003-07-28',\t'Masculino', 'Avenida da Amizade, 123',\t'11 8901-2345',\t'vinicius@email.com'),\n",
        "(18, 'Juliana Pereira',\t'2006-09-01', 'Feminino', 'Rua das Rosas, 789',\t'11 3456-7890',\t'juliana@email.com');\n",
        "\n",
        "INSERT INTO Disciplinas (ID_Disciplina,\tNome_Disciplina, Descrição_Disciplinas,\tCarga_Horária, ID_Professor)\n",
        "VALUES\n",
        "(1,\t'Matemática', 'Estudo de conceitos matemáticos avançados', '60',\t'1'),\n",
        "(2,\t'História', 'História mundial e local',\t'45',\t'2'),\n",
        "(3,\t'Física', 'Princípios fundamentais da física',\t'60',\t'1'),\n",
        "(4,\t'Química', 'Estudo da química e suas aplicações',\t'45',\t'3'),\n",
        "(5,\t'Inglês', 'Aulas de inglês para iniciantes',\t'45',\t'4'),\n",
        "(6,\t'Artes', 'Exploração da criatividade artística',\t'30',\t'5');\n",
        "\n",
        "\n",
        "INSERT INTO Notas (ID_Nota, ID_Disciplina, ID_Aluno, Valor_Nota, Data_Avaliação)\n",
        "VALUES\n",
        "(2, 1, 1, 6, '2023-07-07'),\n",
        "(3, 1, 2, 7, '2023-07-07'),\n",
        "(4, 1, 3, 7, '2023-07-07'),\n",
        "(5, 1, 4, 7, '2023-07-07'),\n",
        "(6, 1, 5, 4, '2023-07-07'),\n",
        "(7, 1, 6, 4, '2023-07-07'),\n",
        "(8, 1, 7, 0, '2023-07-07'),\n",
        "(9, 1, 8, 9, '2023-07-07'),\n",
        "(10, 1, 9, 9, '2023-07-07'),\n",
        "(11, 1, 10, 3, '2023-07-07'),\n",
        "(12, 2, 1, 1, '2023-09-07'),\n",
        "(13, 2, 2, 3, '2023-09-07'),\n",
        "(14, 2, 3, 1, '2023-09-07'),\n",
        "(15, 2, 4, 0, '2023-09-07'),\n",
        "(16, 2, 5, 4, '2023-09-07'),\n",
        "(17, 2, 6, 4, '2023-09-07'),\n",
        "(18, 2, 7, 8, '2023-09-07'),\n",
        "(19, 2, 8, 1, '2023-09-07'),\n",
        "(20, 2, 9, 8, '2023-09-07'),\n",
        "(21, 2, 10, 3, '2023-09-07'),\n",
        "(22, 3, 1, 6, '2023-07-27'),\n",
        "(23, 3, 2, 8, '2023-07-27'),\n",
        "(24, 3, 3, 1, '2023-07-27'),\n",
        "(25, 3, 4, 4, '2023-07-27'),\n",
        "(26, 3, 5, 0, '2023-07-27'),\n",
        "(27, 3, 6, 6, '2023-07-27'),\n",
        "(28, 3, 7, 9, '2023-07-27'),\n",
        "(29, 3, 8, 3, '2023-07-27'),\n",
        "(30, 3, 9, 0, '2023-07-27'),\n",
        "(31, 3, 10, 8, '2023-07-27'),\n",
        "(32, 4, 1, 8, '2023-08-08'),\n",
        "(33, 4, 2, 0, '2023-08-08'),\n",
        "(34, 4, 3, 5, '2023-08-08'),\n",
        "(35, 4, 4, 6, '2023-08-08'),\n",
        "(36, 4, 5, 6, '2023-08-08'),\n",
        "(37, 4, 6, 4, '2023-08-08'),\n",
        "(38, 4, 7, 7, '2023-08-08'),\n",
        "(39, 4, 8, 0, '2023-08-08'),\n",
        "(40, 4, 9, 7, '2023-08-08'),\n",
        "(41, 4, 10, 5, '2023-08-08'),\n",
        "(42, 5, 1, 2, '2023-08-15'),\n",
        "(43, 5, 2, 5, '2023-08-15'),\n",
        "(44, 5, 3, 4, '2023-08-15'),\n",
        "(45, 5, 4, 7, '2023-08-15'),\n",
        "(46, 5, 5, 3, '2023-08-15'),\n",
        "(47, 5, 6, 8, '2023-08-15'),\n",
        "(48, 5, 7, 8, '2023-08-15'),\n",
        "(49, 5, 8, 3, '2023-08-15'),\n",
        "(50, 5, 9, 4, '2023-08-15'),\n",
        "(51, 5, 10, 0, '2023-08-15');\n",
        "\n",
        "INSERT INTO Professores (ID_do_Professor, Nome_do_Professor, Data_de_Nascimento, Genero, Telefone_de_Contato, Email)\n",
        "VALUES\n",
        "(1, 'Ana Oliveira', '1980-05-25', 'Feminino', '(11) 1234-5678', 'ana@email.com'),\n",
        "(2, 'Carlos Ferreira', '1975-09-12', 'Masculino', '(11) 2345-6789', 'carlos@email.com'),\n",
        "(3, 'Mariana Santos', '1982-03-15', 'Feminino', '(11) 3456-7890', 'mariana@email.com'),\n",
        "(4, 'Ricardo Silva', '1978-08-20', 'Masculino', '(11) 4567-8901', 'ricardo@email.com');\n",
        "\n",
        "INSERT INTO Turma_Alunos (ID_da_Turma, ID_do_Aluno)\n",
        "VALUES\n",
        "('1', '1'),\n",
        "('2', '2'),\n",
        "('3', '3'),\n",
        "('4', '4'),\n",
        "('5', '5'),\n",
        "('1', '6'),\n",
        "('2', '7'),\n",
        "('3', '8'),\n",
        "('4', '9'),\n",
        "('5', '10');\n",
        "\n",
        "INSERT INTO Turma_Disciplinas (ID_da_Turma, ID_da_Disciplina)\n",
        "VALUES\n",
        "('1', '1'),\n",
        "('2', '2'),\n",
        "('3', '3'),\n",
        "('4', '4'),\n",
        "('5', '5'),\n",
        "('1', '3'),\n",
        "('2', '1'),\n",
        "('3', '2');\n",
        "\n",
        "INSERT INTO Turmas (ID_da_Turma, Nome_da_Turma, Ano_Letivo, ID_do_Professor_Orientador)\n",
        "VALUES\n",
        "('1', 'Turma A', 2023, '1'),\n",
        "('2', 'Turma B', 2023, '2'),\n",
        "('3', 'Turma C', 2023, '3'),\n",
        "('4', 'Turma D', 2023, '4'),\n",
        "('5', 'Turma E', 2023, '5');\n"
      ],
      "metadata": {
        "id": "japoJIfcRMZi"
      },
      "execution_count": null,
      "outputs": []
    },
    {
      "cell_type": "markdown",
      "source": [
        "Visualizar dados\n"
      ],
      "metadata": {
        "id": "TndpVTiLRRfn"
      }
    },
    {
      "cell_type": "code",
      "source": [
        "SELECT * FROM Alunos\n",
        "SELECT * FROM Professores\n",
        "SELECT * FROM Disciplinas\n",
        "SELECT * FROM Turmas\n",
        "SELECT * FROM Turma_Disciplinas\n",
        "SELECT * FROM Turma_Alunos\n",
        "SELECT * FROM Notas\n",
        "SELECT * FROM Disciplinas\n",
        "\n",
        "SELECT * FROM Alunos ORDER BY nome_alunos ASC;\n",
        "\n",
        "SELECT * from Disciplinas WHERE Carga_Horária >=40;\n",
        "\n",
        "SELECT * from Notas WHERE valor_nota >6 and valor_nota <8;\n"
      ],
      "metadata": {
        "id": "4nd3cThnRW_Q"
      },
      "execution_count": null,
      "outputs": []
    },
    {
      "cell_type": "markdown",
      "source": [
        "Exercicio\n"
      ],
      "metadata": {
        "id": "kwFtRojwRsYg"
      }
    },
    {
      "cell_type": "code",
      "source": [
        "CREATE TABLE funcionarios (\n",
        "id int PRIMARY KEY,\n",
        "nome varchar (100),\n",
        "departamento varchar(100),\n",
        "salario float);\n",
        "\n",
        "INSERT INTO funcionarios (id, nome, departamento, salario)\n",
        "VALUES\n",
        "(1, 'Heitor Vieira', 'Financeiro', 4959.22),\n",
        "(2, 'Daniel Campos', 'Vendas',  3884.44),\n",
        "(3, 'Luiza Dias',  'TI',  8205.78),\n",
        "(4, 'Davi Lucas Moraes', 'Financeiro', 8437.02),\n",
        "(5, 'Pietro Cavalcanti', 'TI',  4946.88),\n",
        "(6, 'Evelyn da Mata',  'Vendas',  5278.88),\n",
        "(7, 'Isabella Rocha', 'Marketing',  4006.03),\n",
        "(8, 'Sra. Manuela Azevedo',  'Vendas', 6101.88),\n",
        "(9, 'Brenda Cardoso',  'TI',  8853.34),\n",
        "(10, 'Danilo Souza', 'TI',  8242.14);\n",
        "\n",
        "SELECT * from funcionarios;\n",
        "\n",
        "SELECT * from funcionarios WHERE departamento = 'Vendas';\n",
        "\n",
        "SELECT * from funcionarios WHERE salario > 5000;\n",
        "\n",
        "SELECT departamento from funcionarios DESC;\n",
        "\n",
        "UPDATE funcionarios SET salario = '7500' WHERE departamento = 'TI'\n",
        "\n",
        "SELECT departamento, salario from funcionarios;\n",
        "\n",
        "DELETE FROM funcionarios WHERE salario < 4000;\n"
      ],
      "metadata": {
        "id": "qSntRQReRwHO"
      },
      "execution_count": null,
      "outputs": []
    }
  ]
}